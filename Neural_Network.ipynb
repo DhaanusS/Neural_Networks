{
  "nbformat": 4,
  "nbformat_minor": 0,
  "metadata": {
    "colab": {
      "provenance": []
    },
    "kernelspec": {
      "name": "python3",
      "display_name": "Python 3"
    },
    "language_info": {
      "name": "python"
    }
  },
  "cells": [
    {
      "cell_type": "code",
      "execution_count": 3,
      "metadata": {
        "colab": {
          "base_uri": "https://localhost:8080/"
        },
        "id": "5pBsDX3SBaCd",
        "outputId": "01c5eaff-db95-44ca-d3a4-0e240b9bd823"
      },
      "outputs": [
        {
          "output_type": "stream",
          "name": "stdout",
          "text": [
            "2.3\n"
          ]
        }
      ],
      "source": [
        "input = [1,2,3]\n",
        "weight = [0.2,0.8,-0.5]\n",
        "bias = 2\n",
        "\n",
        "\n",
        "output = input[0]*weight[0]+input[1]*weight[1]+input[2]*weight[2]+bias\n",
        "print(output)"
      ]
    },
    {
      "cell_type": "code",
      "source": [
        "input = [1,2,3,2.5]\n",
        "weight = [0.2,0.8,-0.5,1.0]\n",
        "bias = 2.0\n",
        "\n",
        "\n",
        "output = input[0]*weight[0]+input[1]*weight[1]+input[2]*weight[2]+input[3]*weight[3]+bias\n",
        "print(output)"
      ],
      "metadata": {
        "colab": {
          "base_uri": "https://localhost:8080/"
        },
        "id": "buMty-iGB33E",
        "outputId": "ded57d04-2d77-42fb-a322-193281c020c0"
      },
      "execution_count": 4,
      "outputs": [
        {
          "output_type": "stream",
          "name": "stdout",
          "text": [
            "4.8\n"
          ]
        }
      ]
    },
    {
      "cell_type": "code",
      "source": [
        "input = [1,2,3,2.5]\n",
        "weight1 = [0.2,0.8,-0.5,1.0]\n",
        "weight2 = [0.5,-0.91,0.26,-0.5]\n",
        "weight3 = [-0.26,-0.27,0.17,0.87]\n",
        "bias1 = 2\n",
        "bias2 = 3\n",
        "bias3 = 0.5\n",
        "\n",
        "\n",
        "output = [input[0]*weight1[0]+input[1]*weight1[1]+input[2]*weight1[2]+input[3]*weight1[3]+bias1,\n",
        "          input[0]*weight2[0]+input[1]*weight2[1]+input[2]*weight2[2]+input[3]*weight2[3]+bias2,\n",
        "          input[0]*weight3[0]+input[1]*weight3[1]+input[2]*weight3[2]+input[3]*weight3[3]+bias3]\n",
        "          \n",
        "print(output)"
      ],
      "metadata": {
        "colab": {
          "base_uri": "https://localhost:8080/"
        },
        "id": "COdv2Rg3DwtU",
        "outputId": "45cc77c0-dfda-496f-8431-059160dca047"
      },
      "execution_count": 5,
      "outputs": [
        {
          "output_type": "stream",
          "name": "stdout",
          "text": [
            "[4.8, 1.21, 2.385]\n"
          ]
        }
      ]
    },
    {
      "cell_type": "code",
      "source": [
        "input = [1,2,3,2.5]\n",
        "weights = [[0.2,0.8,-0.5,1.0],\n",
        "           [0.5,-0.91,0.26,-0.5],\n",
        "           [-0.26,-0.27,0.17,0.87]]\n",
        "biases = [2,3,0.5]\n",
        "output = []\n",
        "'''for n_weights,n_bias in zip(weights,biases):\n",
        "  n_output = 0\n",
        "  for n_input, weight in zip(input,n_weights):\n",
        "    n_output += n_input*weight\n",
        "  n_output += n_bias\n",
        "  output.append(n_output)\n",
        "print(output)'''"
      ],
      "metadata": {
        "colab": {
          "base_uri": "https://localhost:8080/",
          "height": 72
        },
        "id": "6lrWqEGfFy2s",
        "outputId": "186952e8-39d8-4bf2-9ee8-88bff8fc14bd"
      },
      "execution_count": 6,
      "outputs": [
        {
          "output_type": "execute_result",
          "data": {
            "text/plain": [
              "'for n_weights,n_bias in zip(weights,biases):\\n  n_output = 0\\n  for n_input, weight in zip(input,n_weights):\\n    n_output += n_input*weight\\n  n_output += n_bias\\n  output.append(n_output)\\nprint(output)'"
            ],
            "application/vnd.google.colaboratory.intrinsic+json": {
              "type": "string"
            }
          },
          "metadata": {},
          "execution_count": 6
        }
      ]
    },
    {
      "cell_type": "code",
      "source": [
        "for n_weights,n_biases in zip(weights,biases):\n",
        "  n_output = 0\n",
        "  for n_input, weight in zip(input, n_weights):\n",
        "    n_output += n_input*weight\n",
        "  n_output += n_biases\n",
        "  output.append(n_output)\n",
        "print(output)"
      ],
      "metadata": {
        "colab": {
          "base_uri": "https://localhost:8080/"
        },
        "id": "jewcaRPIIIj0",
        "outputId": "14ce24d9-b967-4f81-f7f4-3497bcb5de6b"
      },
      "execution_count": 7,
      "outputs": [
        {
          "output_type": "stream",
          "name": "stdout",
          "text": [
            "[4.8, 1.21, 2.385]\n"
          ]
        }
      ]
    },
    {
      "cell_type": "code",
      "source": [
        "#Using NUMPY Library\n",
        "import numpy as np"
      ],
      "metadata": {
        "id": "AeNLcHuZJfuL"
      },
      "execution_count": 8,
      "outputs": []
    },
    {
      "cell_type": "code",
      "source": [
        "input = [1,2,3,2.5]\n",
        "weights = [[0.2,0.8,-0.5,1.0],\n",
        "           [0.5,-0.91,0.26,-0.5],\n",
        "           [-0.26,-0.27,0.17,0.87]]\n",
        "biases = [2,3,0.5]\n",
        "output = np.dot(weights, input) + biases\n",
        "print(output)"
      ],
      "metadata": {
        "colab": {
          "base_uri": "https://localhost:8080/"
        },
        "id": "htFNJiQMuS-X",
        "outputId": "c7356cfb-7bcf-42f0-a874-1a61e747ee13"
      },
      "execution_count": 12,
      "outputs": [
        {
          "output_type": "stream",
          "name": "stdout",
          "text": [
            "[4.8   1.21  2.385]\n"
          ]
        }
      ]
    },
    {
      "cell_type": "code",
      "source": [
        "#Batching - parallel operations with error\n",
        "input = [[1.0, 2.0, 3.0, 2.5],\n",
        "         [2.0, 5.0, -1.0, 2.0],\n",
        "         [-1.5, 2.7, 3.3, -0.8]]\n",
        "\n",
        "weights = [[0.2,0.8,-0.5,1.0],\n",
        "           [0.5,-0.91,0.26,-0.5],\n",
        "           [-0.26,-0.27,0.17,0.87]]\n",
        "\n",
        "biases = [2,3,0.5]     \n",
        "\n",
        "output = np.dot(weights, input) + biases\n",
        "print(output)"
      ],
      "metadata": {
        "colab": {
          "base_uri": "https://localhost:8080/",
          "height": 226
        },
        "id": "ZQTSa_--v1P_",
        "outputId": "983c3b90-1c1e-49ea-f2e2-f72d7fd04802"
      },
      "execution_count": 15,
      "outputs": [
        {
          "output_type": "error",
          "ename": "NameError",
          "evalue": "ignored",
          "traceback": [
            "\u001b[0;31m---------------------------------------------------------------------------\u001b[0m",
            "\u001b[0;31mNameError\u001b[0m                                 Traceback (most recent call last)",
            "\u001b[0;32m<ipython-input-15-e4615e6763d4>\u001b[0m in \u001b[0;36m<cell line: 12>\u001b[0;34m()\u001b[0m\n\u001b[1;32m     10\u001b[0m \u001b[0mbiases\u001b[0m \u001b[0;34m=\u001b[0m \u001b[0;34m[\u001b[0m\u001b[0;36m2\u001b[0m\u001b[0;34m,\u001b[0m\u001b[0;36m3\u001b[0m\u001b[0;34m,\u001b[0m\u001b[0;36m0.5\u001b[0m\u001b[0;34m]\u001b[0m\u001b[0;34m\u001b[0m\u001b[0;34m\u001b[0m\u001b[0m\n\u001b[1;32m     11\u001b[0m \u001b[0;34m\u001b[0m\u001b[0m\n\u001b[0;32m---> 12\u001b[0;31m \u001b[0moutput\u001b[0m \u001b[0;34m=\u001b[0m \u001b[0mnp\u001b[0m\u001b[0;34m.\u001b[0m\u001b[0mdot\u001b[0m\u001b[0;34m(\u001b[0m\u001b[0mT\u001b[0m\u001b[0;34m.\u001b[0m\u001b[0mweights\u001b[0m\u001b[0;34m,\u001b[0m \u001b[0minput\u001b[0m\u001b[0;34m)\u001b[0m \u001b[0;34m+\u001b[0m \u001b[0mbiases\u001b[0m\u001b[0;34m\u001b[0m\u001b[0;34m\u001b[0m\u001b[0m\n\u001b[0m\u001b[1;32m     13\u001b[0m \u001b[0mprint\u001b[0m\u001b[0;34m(\u001b[0m\u001b[0moutput\u001b[0m\u001b[0;34m)\u001b[0m\u001b[0;34m\u001b[0m\u001b[0;34m\u001b[0m\u001b[0m\n",
            "\u001b[0;31mNameError\u001b[0m: name 'T' is not defined"
          ]
        }
      ]
    },
    {
      "cell_type": "code",
      "source": [
        "#Batching - parallel operations\n",
        "input = [[1.0, 2.0, 3.0, 2.5],\n",
        "         [2.0, 5.0, -1.0, 2.0],\n",
        "         [-1.5, 2.7, 3.3, -0.8]]\n",
        "\n",
        "weights = [[0.2,0.8,-0.5,1.0],\n",
        "           [0.5,-0.91,0.26,-0.5],\n",
        "           [-0.26,-0.27,0.17,0.87]]\n",
        "\n",
        "biases = [2,3,0.5]     \n",
        "\n",
        "output = np.dot(input, np.array(weights).T) + biases # convert weights as np array and took a transpose of it\n",
        "print(output)"
      ],
      "metadata": {
        "colab": {
          "base_uri": "https://localhost:8080/"
        },
        "id": "kcf2et_102Ju",
        "outputId": "d8c84a8c-f05b-4c4d-cd09-1a9fd87085ce"
      },
      "execution_count": 17,
      "outputs": [
        {
          "output_type": "stream",
          "name": "stdout",
          "text": [
            "[[ 4.8    1.21   2.385]\n",
            " [ 8.9   -1.81   0.2  ]\n",
            " [ 1.41   1.051  0.026]]\n"
          ]
        }
      ]
    },
    {
      "cell_type": "code",
      "source": [
        "#Batching - parallel operations\n",
        "input = [[1.0, 2.0, 3.0, 2.5],\n",
        "         [2.0, 5.0, -1.0, 2.0],\n",
        "         [-1.5, 2.7, 3.3, -0.8]]\n",
        "\n",
        "weights = [[0.2, 0.8, -0.5, 1.0],\n",
        "           [0.5, -0.91, 0.26,-0.5],\n",
        "           [-0.26,-0.27,0.17,0.87]]\n",
        "\n",
        "biases =  [2, 3 ,0.5] \n",
        "\n",
        "weights1 = [[0.1, -0.14, 0.5],\n",
        "           [-0.5, 0.12, -0.33],\n",
        "           [-0.44, 0.73, -0.13]]\n",
        "\n",
        "biases1 = [-1, 2, -0.5]\n",
        "\n",
        "L1_output = np.dot(input, np.array(weights).T) + biases\n",
        "L2_output = np.dot(L1_output, np.array(weights1).T) + biases1\n",
        "print(L2_output)"
      ],
      "metadata": {
        "colab": {
          "base_uri": "https://localhost:8080/"
        },
        "id": "igHYxdAS1Gre",
        "outputId": "aa665971-8bbd-443f-93a0-3ede06edd7f8"
      },
      "execution_count": 20,
      "outputs": [
        {
          "output_type": "stream",
          "name": "stdout",
          "text": [
            "[[ 0.5031  -1.04185 -2.03875]\n",
            " [ 0.2434  -2.7332  -5.7633 ]\n",
            " [-0.99314  1.41254 -0.35655]]\n"
          ]
        }
      ]
    },
    {
      "cell_type": "code",
      "source": [
        "#Making an object\n",
        "np.random.seed(0)\n",
        "X = [[1.0, 2.0, 3.0, 2.5],\n",
        "     [2.0, 5.0, -1.0, 2.0],\n",
        "     [-1.5, 2.7, 3.3, -0.8]]\n",
        "\n",
        "class Layer_Dense:\n",
        "  def __init__(self, n_inputs, n_neurons):\n",
        "    self.weights = 0.10*np.random.randn(n_inputs, n_neurons)\n",
        "    self.biases = np.zeros((1, n_neurons))\n",
        "  def forward(self, inputs):\n",
        "    self.output = np.dot(inputs, self.weights) + self.biases\n",
        "layer1 = Layer_Dense(4,5)\n",
        "layer2 = Layer_Dense(5,2)\n",
        "\n",
        "layer1.forward(X)\n",
        "print(layer1.output)\n",
        "layer2.forward(layer1.output)\n",
        "print(\"-------------------------------------------------\\n\",layer2.output)"
      ],
      "metadata": {
        "colab": {
          "base_uri": "https://localhost:8080/"
        },
        "id": "r_h_8LZ24Asw",
        "outputId": "f1b909e7-a232-4edd-e2a6-88c3c658f831"
      },
      "execution_count": 35,
      "outputs": [
        {
          "output_type": "stream",
          "name": "stdout",
          "text": [
            "[[ 0.10758131  1.03983522  0.24462411  0.31821498  0.18851053]\n",
            " [-0.08349796  0.70846411  0.00293357  0.44701525  0.36360538]\n",
            " [-0.50763245  0.55688422  0.07987797 -0.34889573  0.04553042]]\n",
            "-------------------------------------------------\n",
            " [[ 0.148296   -0.08397602]\n",
            " [ 0.14100315 -0.01340469]\n",
            " [ 0.20124979 -0.07290616]]\n"
          ]
        }
      ]
    },
    {
      "cell_type": "code",
      "source": [],
      "metadata": {
        "id": "Y308-0Pb5k7H"
      },
      "execution_count": null,
      "outputs": []
    }
  ]
}